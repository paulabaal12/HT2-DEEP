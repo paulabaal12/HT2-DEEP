{
 "cells": [
  {
   "cell_type": "markdown",
   "id": "d20b0621",
   "metadata": {},
   "source": [
    "# Ejercicio 1 - Experimentación Práctica"
   ]
  },
  {
   "cell_type": "markdown",
   "id": "c40390ba",
   "metadata": {},
   "source": [
    "## Task 1 - Preparación del conjunto de datos"
   ]
  },
  {
   "cell_type": "code",
   "execution_count": 1,
   "id": "2659437a",
   "metadata": {},
   "outputs": [],
   "source": [
    "from sklearn.datasets import load_iris\n",
    "from sklearn.model_selection import train_test_split\n",
    "import torch\n",
    "import torch.nn as nn\n",
    "import torch.nn.functional as F\n",
    "import torch.optim as optim\n",
    "import numpy as np\n",
    "\n",
    "# dataset Iris\n",
    "iris = load_iris()\n",
    "X = iris.data.astype(np.float32)\n",
    "y = iris.target.astype(np.int64)\n",
    "\n",
    "# entrenamiento y validación\n",
    "X_train, X_val, y_train, y_val = train_test_split(X, y, test_size=0.2, random_state=42, stratify=y)\n",
    "\n",
    "# tensores de PyTorch\n",
    "X_train_tensor = torch.tensor(X_train)\n",
    "y_train_tensor = torch.tensor(y_train)\n",
    "X_val_tensor = torch.tensor(X_val)\n",
    "y_val_tensor = torch.tensor(y_val)"
   ]
  },
  {
   "cell_type": "markdown",
   "id": "8349ba2e",
   "metadata": {},
   "source": [
    "## Task 2 - Arquitectura modelo"
   ]
  },
  {
   "cell_type": "code",
   "execution_count": null,
   "id": "54332367",
   "metadata": {},
   "outputs": [
    {
     "name": "stdout",
     "output_type": "stream",
     "text": [
      "FeedforwardNN(\n",
      "  (fc1): Linear(in_features=4, out_features=16, bias=True)\n",
      "  (fc2): Linear(in_features=16, out_features=16, bias=True)\n",
      "  (fc3): Linear(in_features=16, out_features=3, bias=True)\n",
      "  (relu): ReLU()\n",
      ")\n"
     ]
    }
   ],
   "source": [
    "class FeedforwardNN(nn.Module):\n",
    "    def __init__(self, input_dim, hidden_dim, output_dim):\n",
    "        super(FeedforwardNN, self).__init__()\n",
    "        self.fc1 = nn.Linear(input_dim, hidden_dim)\n",
    "        self.fc2 = nn.Linear(hidden_dim, hidden_dim)\n",
    "        self.fc3 = nn.Linear(hidden_dim, output_dim)\n",
    "        self.relu = nn.ReLU()\n",
    "    \n",
    "    def forward(self, x):\n",
    "        x = self.relu(self.fc1(x))\n",
    "        x = self.relu(self.fc2(x))\n",
    "        x = self.fc3(x)\n",
    "        return x\n",
    "\n",
    "# parámetros del modelo\n",
    "input_dim = X_train.shape[1]  # 4 features\n",
    "hidden_dim = 16\n",
    "output_dim = len(np.unique(y))  # 3 clases\n",
    "\n",
    "# instanciar el modelo\n",
    "model = FeedforwardNN(input_dim, hidden_dim, output_dim)\n",
    "print(model)"
   ]
  },
  {
   "cell_type": "markdown",
   "id": "36e2e9c3",
   "metadata": {},
   "source": [
    "## Task 3 - Funciones de Pérdida"
   ]
  },
  {
   "cell_type": "code",
   "execution_count": 3,
   "id": "6ba421ad",
   "metadata": {},
   "outputs": [
    {
     "name": "stdout",
     "output_type": "stream",
     "text": [
      "Entrenando con función de pérdida: cross_entropy\n",
      "Entrenando con función de pérdida: mse\n",
      "Entrenando con función de pérdida: nll\n",
      "Entrenando con función de pérdida: mse\n",
      "Entrenando con función de pérdida: nll\n"
     ]
    }
   ],
   "source": [
    "def loss_function(loss_name):\n",
    "    if loss_name == 'cross_entropy':\n",
    "        return nn.CrossEntropyLoss()\n",
    "    elif loss_name == 'mse':\n",
    "        return nn.MSELoss()\n",
    "    elif loss_name == 'nll':\n",
    "        return nn.NLLLoss()\n",
    "    else:\n",
    "        raise ValueError('Función de pérdida no soportada')\n",
    "\n",
    "def train_model(model, loss_fn, optimizer, X_train, y_train, X_val, y_val, epochs=50):\n",
    "    train_losses = []\n",
    "    val_losses = []\n",
    "    for epoch in range(epochs):\n",
    "        model.train()\n",
    "        optimizer.zero_grad()\n",
    "        outputs = model(X_train)\n",
    "        if isinstance(loss_fn, nn.MSELoss):\n",
    "            # One-hot para MSE\n",
    "            y_train_oh = F.one_hot(y_train, num_classes=output_dim).float()\n",
    "            loss = loss_fn(outputs, y_train_oh)\n",
    "        elif isinstance(loss_fn, nn.NLLLoss):\n",
    "            # LogSoftmax para NLLLoss\n",
    "            outputs = F.log_softmax(outputs, dim=1)\n",
    "            loss = loss_fn(outputs, y_train)\n",
    "        else:\n",
    "            loss = loss_fn(outputs, y_train)\n",
    "        loss.backward()\n",
    "        optimizer.step()\n",
    "        train_losses.append(loss.item())\n",
    "\n",
    "        # Validación\n",
    "        model.eval()\n",
    "        with torch.no_grad():\n",
    "            val_outputs = model(X_val)\n",
    "            if isinstance(loss_fn, nn.MSELoss):\n",
    "                y_val_oh = F.one_hot(y_val, num_classes=output_dim).float()\n",
    "                val_loss = loss_fn(val_outputs, y_val_oh)\n",
    "            elif isinstance(loss_fn, nn.NLLLoss):\n",
    "                val_outputs = F.log_softmax(val_outputs, dim=1)\n",
    "                val_loss = loss_fn(val_outputs, y_val)\n",
    "            else:\n",
    "                val_loss = loss_fn(val_outputs, y_val)\n",
    "            val_losses.append(val_loss.item())\n",
    "    return train_losses, val_losses\n",
    "\n",
    "# uso con diferentes funciones de pérdida\n",
    "loss_functions = ['cross_entropy', 'mse', 'nll']\n",
    "results = {}\n",
    "for loss_name in loss_functions:\n",
    "    print(f'Entrenando con función de pérdida: {loss_name}')\n",
    "    model = FeedforwardNN(input_dim, hidden_dim, output_dim)\n",
    "    optimizer = optim.Adam(model.parameters(), lr=0.01)\n",
    "    loss_fn = loss_function(loss_name)\n",
    "    train_losses, val_losses = train_model(model, loss_fn, optimizer, X_train_tensor, y_train_tensor, X_val_tensor, y_val_tensor, epochs=50)\n",
    "    results[loss_name] = {'train_loss': train_losses, 'val_loss': val_losses}"
   ]
  },
  {
   "cell_type": "markdown",
   "id": "a7b00d6d",
   "metadata": {},
   "source": [
    "## Task 4 - Técnicas de Regularización"
   ]
  },
  {
   "cell_type": "code",
   "execution_count": null,
   "id": "3ce2dc76",
   "metadata": {},
   "outputs": [
    {
     "name": "stdout",
     "output_type": "stream",
     "text": [
      "Entrenando con regularización: none\n",
      "Entrenando con regularización: l2\n",
      "Entrenando con regularización: l1\n",
      "Entrenando con regularización: l1\n",
      "Entrenando con regularización: dropout\n",
      "Entrenando con regularización: dropout\n"
     ]
    }
   ],
   "source": [
    "class FeedforwardNNDropout(nn.Module):\n",
    "    def __init__(self, input_dim, hidden_dim, output_dim, dropout_p=0.5):\n",
    "        super(FeedforwardNNDropout, self).__init__()\n",
    "        self.fc1 = nn.Linear(input_dim, hidden_dim)\n",
    "        self.fc2 = nn.Linear(hidden_dim, hidden_dim)\n",
    "        self.fc3 = nn.Linear(hidden_dim, output_dim)\n",
    "        self.relu = nn.ReLU()\n",
    "        self.dropout = nn.Dropout(dropout_p)\n",
    "    \n",
    "    def forward(self, x):\n",
    "        x = self.relu(self.fc1(x))\n",
    "        x = self.dropout(x)\n",
    "        x = self.relu(self.fc2(x))\n",
    "        x = self.dropout(x)\n",
    "        x = self.fc3(x)\n",
    "        return x\n",
    "\n",
    "def train_model_regularization(model, loss_fn, optimizer, X_train, y_train, X_val, y_val, epochs=50, l1_lambda=0.0):\n",
    "    train_losses = []\n",
    "    val_losses = []\n",
    "    for epoch in range(epochs):\n",
    "        model.train()\n",
    "        optimizer.zero_grad()\n",
    "        outputs = model(X_train)\n",
    "        if isinstance(loss_fn, nn.MSELoss):\n",
    "            y_train_oh = F.one_hot(y_train, num_classes=output_dim).float()\n",
    "            loss = loss_fn(outputs, y_train_oh)\n",
    "        elif isinstance(loss_fn, nn.NLLLoss):\n",
    "            outputs = F.log_softmax(outputs, dim=1)\n",
    "            loss = loss_fn(outputs, y_train)\n",
    "        else:\n",
    "            loss = loss_fn(outputs, y_train)\n",
    "        # L1 regularization\n",
    "        if l1_lambda > 0:\n",
    "            l1_norm = sum(p.abs().sum() for p in model.parameters())\n",
    "            loss = loss + l1_lambda * l1_norm\n",
    "        loss.backward()\n",
    "        optimizer.step()\n",
    "        train_losses.append(loss.item())\n",
    "\n",
    "        # Validación\n",
    "        model.eval()\n",
    "        with torch.no_grad():\n",
    "            val_outputs = model(X_val)\n",
    "            if isinstance(loss_fn, nn.MSELoss):\n",
    "                y_val_oh = F.one_hot(y_val, num_classes=output_dim).float()\n",
    "                val_loss = loss_fn(val_outputs, y_val_oh)\n",
    "            elif isinstance(loss_fn, nn.NLLLoss):\n",
    "                val_outputs = F.log_softmax(val_outputs, dim=1)\n",
    "                val_loss = loss_fn(val_outputs, y_val)\n",
    "            else:\n",
    "                val_loss = loss_fn(val_outputs, y_val)\n",
    "            if l1_lambda > 0:\n",
    "                l1_norm = sum(p.abs().sum() for p in model.parameters())\n",
    "                val_loss = val_loss + l1_lambda * l1_norm\n",
    "            val_losses.append(val_loss.item())\n",
    "    return train_losses, val_losses\n",
    "\n",
    "# diferentes técnicas de regularización\n",
    "regularizations = {\n",
    "    'none': {'dropout': False, 'l1': 0.0, 'l2': 0.0},\n",
    "    'l2':   {'dropout': False, 'l1': 0.0, 'l2': 1e-3},\n",
    "    'l1':   {'dropout': False, 'l1': 1e-3, 'l2': 0.0},\n",
    "    'dropout': {'dropout': True, 'l1': 0.0, 'l2': 0.0}\n",
    "}\n",
    "\n",
    "results_reg = {}\n",
    "for reg_name, reg_params in regularizations.items():\n",
    "    print(f'Entrenando con regularización: {reg_name}')\n",
    "    if reg_params['dropout']:\n",
    "        model = FeedforwardNNDropout(input_dim, hidden_dim, output_dim, dropout_p=0.5)\n",
    "    else:\n",
    "        model = FeedforwardNN(input_dim, hidden_dim, output_dim)\n",
    "    optimizer = optim.Adam(model.parameters(), lr=0.01, weight_decay=reg_params['l2'])\n",
    "    loss_fn = nn.CrossEntropyLoss()\n",
    "    train_losses, val_losses = train_model_regularization(\n",
    "        model, loss_fn, optimizer, X_train_tensor, y_train_tensor, X_val_tensor, y_val_tensor, epochs=50, l1_lambda=reg_params['l1']\n",
    "    )\n",
    "    results_reg[reg_name] = {'train_loss': train_losses, 'val_loss': val_losses}"
   ]
  }
 ],
 "metadata": {
  "kernelspec": {
   "display_name": "Python 3",
   "language": "python",
   "name": "python3"
  },
  "language_info": {
   "codemirror_mode": {
    "name": "ipython",
    "version": 3
   },
   "file_extension": ".py",
   "mimetype": "text/x-python",
   "name": "python",
   "nbconvert_exporter": "python",
   "pygments_lexer": "ipython3",
   "version": "3.13.7"
  }
 },
 "nbformat": 4,
 "nbformat_minor": 5
}
